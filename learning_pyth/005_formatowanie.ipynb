{
 "cells": [
  {
   "cell_type": "markdown",
   "metadata": {},
   "source": [
    "Formatowanie"
   ]
  },
  {
   "cell_type": "code",
   "execution_count": 6,
   "metadata": {},
   "outputs": [
    {
     "name": "stdout",
     "output_type": "stream",
     "text": [
      "Formatowanie\n",
      "\n",
      "\n",
      "\n",
      "Stara metoda formatowania łańcuchów\n",
      "wersja python 2\n",
      "Witaj Daniel Mierzejewski. Cieszę się, że jesteś. Baw się dobrze i życzę Ci powodzenia. :)\n",
      "\n",
      "\n",
      "Nowsza metoda formatowania łańcuchów\n",
      "od wersji python 3\n",
      "{2} {0} {1} \n",
      "{3}\t\tMam nadzieję, że Ci się spodoba.\n",
      "{0} {1} {4} .format(str_imie, str_nazwisko, str_komunikat1, str_komunikat2, str_komunikat3)\n",
      "\n",
      "Witaj Daniel Mierzejewski \n",
      "Cieszę się, że jesteś.\t\tMam nadzieję, że Ci się spodoba.\n",
      "Daniel Mierzejewski życzę Ci powodzenia. :)\n",
      "\n",
      "\n",
      "{c} {a} {b} \n",
      "{d}\t\tMam nadzieję, że Ci się spodoba.\n",
      "{a} {b} {e} .format(a=str_imie, b=str_nazwisko, c=str_komunikat1, d=str_komunikat2, e=str_komunikat3)\n",
      "\n",
      "Witaj Daniel Mierzejewski \n",
      "Cieszę się, że jesteś.\t\tMam nadzieję, że Ci się spodoba.\n",
      "Daniel Mierzejewski życzę Ci powodzenia. :)\n",
      "\n",
      "\n",
      "Formatowanie liczb rzeczywistych\n",
      "float_z1: 3.5, int_z1: 2\n",
      "float_suma1 = int_z1 / float_z1:\t0.5714285714285714 = 2 / 3.5\n",
      "formatowanie float_suma1 s:20.5f:             0.57143\n",
      "formatowanie float_suma1 s:20.11f:       0.57142857143\n",
      "\n",
      "\n",
      "Łańcuchy F (sformatowane literały łańcuchowe)\n",
      "wprowadzone w wersji Python 3.6\n",
      "Wartość zmiennych float_z1 3.5,\t int_z1 2,\t float_suma1 0.5714285714285714\n",
      "\n",
      "\n",
      "Sporo \t | \t tego dla tych \t | \t łańcuchów\n"
     ]
    }
   ],
   "source": [
    "print('Formatowanie')\n",
    "print('\\n\\n')\n",
    "\n",
    "str_imie = 'Daniel'\n",
    "str_nazwisko = 'Mierzejewski'\n",
    "str_komunikat1 = 'Witaj'\n",
    "str_komunikat2 = 'Cieszę się, że jesteś.'\n",
    "str_komunikat3 = 'życzę Ci powodzenia. :)'\n",
    "\n",
    "print('Stara metoda formatowania łańcuchów')\n",
    "print('wersja python 2')\n",
    "print('%s %s %s. %s Baw się dobrze i %s' %(str_komunikat1, str_imie, str_nazwisko, str_komunikat2, str_komunikat3))\n",
    "\n",
    "print('\\n')\n",
    "\n",
    "print('Nowsza metoda formatowania łańcuchów')\n",
    "print('od wersji python 3')\n",
    "\n",
    "print('{2} {0} {1} \\n{3}\\t\\tMam nadzieję, że Ci się spodoba.\\n{0} {1} {4} .format(str_imie, str_nazwisko, str_komunikat1, str_komunikat2, str_komunikat3)')\n",
    "print()\n",
    "print('{2} {0} {1} \\n{3}\\t\\tMam nadzieję, że Ci się spodoba.\\n{0} {1} {4}'\n",
    "      .format(str_imie, str_nazwisko, str_komunikat1, str_komunikat2, str_komunikat3))\n",
    "\n",
    "print('\\n')\n",
    "\n",
    "print('{c} {a} {b} \\n{d}\\t\\tMam nadzieję, że Ci się spodoba.\\n{a} {b} {e} .format(a=str_imie, b=str_nazwisko, c=str_komunikat1, d=str_komunikat2, e=str_komunikat3)')\n",
    "print()\n",
    "print('{c} {a} {b} \\n{d}\\t\\tMam nadzieję, że Ci się spodoba.\\n{a} {b} {e}'\n",
    "      .format(a=str_imie, b=str_nazwisko, c=str_komunikat1, d=str_komunikat2, e=str_komunikat3))\n",
    "\n",
    "print('\\n')\n",
    "\n",
    "print('Formatowanie liczb rzeczywistych')\n",
    "float_z1 = 3.5\n",
    "int_z1 = 2\n",
    "float_suma1 = int_z1 / float_z1\n",
    "print('float_z1: {0}, int_z1: {1}'.format(float_z1,int_z1))\n",
    "print('float_suma1 = int_z1 / float_z1:\\t{s} = {i} / {f}'.format(s=float_suma1,f=float_z1,i=int_z1))\n",
    "print('formatowanie float_suma1 s:20.5f:{s:20.5f}'.format(s=float_suma1))\n",
    "print('formatowanie float_suma1 s:20.11f:{s:20.11f}'.format(s=float_suma1))\n",
    "\n",
    "print('\\n')\n",
    "\n",
    "print('Łańcuchy F (sformatowane literały łańcuchowe)')\n",
    "print('wprowadzone w wersji Python 3.6')\n",
    "print(f'Wartość zmiennych float_z1 {float_z1},\\t int_z1 {int_z1},\\t float_suma1 {float_suma1}')\n",
    "\n",
    "print('\\n')\n",
    "\n",
    "print('Sporo \\t | \\t tego dla tych \\t | \\t łańcuchów')\n",
    "\n"
   ]
  },
  {
   "cell_type": "code",
   "execution_count": null,
   "metadata": {},
   "outputs": [],
   "source": []
  }
 ],
 "metadata": {
  "kernelspec": {
   "display_name": "Python 3",
   "language": "python",
   "name": "python3"
  },
  "language_info": {
   "codemirror_mode": {
    "name": "ipython",
    "version": 3
   },
   "file_extension": ".py",
   "mimetype": "text/x-python",
   "name": "python",
   "nbconvert_exporter": "python",
   "pygments_lexer": "ipython3",
   "version": "3.7.3"
  }
 },
 "nbformat": 4,
 "nbformat_minor": 2
}
