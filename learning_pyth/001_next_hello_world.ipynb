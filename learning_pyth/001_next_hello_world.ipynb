{
 "cells": [
  {
   "cell_type": "code",
   "execution_count": 7,
   "metadata": {},
   "outputs": [
    {
     "name": "stdout",
     "output_type": "stream",
     "text": [
      "next hello world\n",
      "hello world is not funny\n",
      "My name is Daniel Mierzejewski\n",
      "Wellcome in my world\n",
      "it`s my testing print function, olny for funny\n",
      "jupyterlab + notebook is very nice soft for learning\n",
      "cells working perfect\n"
     ]
    }
   ],
   "source": [
    "print('next hello world')\n",
    "print('hello world is not funny')\n",
    "print('My name is Daniel Mierzejewski')\n",
    "print('Wellcome in my world')\n",
    "print('it`s my testing print function, olny for funny')\n",
    "print('jupyterlab + notebook is very nice soft for learning')\n",
    "print('cells working perfect')"
   ]
  },
  {
   "cell_type": "code",
   "execution_count": null,
   "metadata": {},
   "outputs": [],
   "source": []
  }
 ],
 "metadata": {
  "kernelspec": {
   "display_name": "Python 3",
   "language": "python",
   "name": "python3"
  },
  "language_info": {
   "codemirror_mode": {
    "name": "ipython",
    "version": 3
   },
   "file_extension": ".py",
   "mimetype": "text/x-python",
   "name": "python",
   "nbconvert_exporter": "python",
   "pygments_lexer": "ipython3",
   "version": "3.7.3"
  }
 },
 "nbformat": 4,
 "nbformat_minor": 2
}
