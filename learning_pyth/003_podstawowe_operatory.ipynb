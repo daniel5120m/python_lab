{
 "cells": [
  {
   "cell_type": "code",
   "execution_count": 14,
   "metadata": {},
   "outputs": [
    {
     "name": "stdout",
     "output_type": "stream",
     "text": [
      "Podstawowe operatory w Pythonie\n",
      "Podaj liczby i teksty:\n"
     ]
    },
    {
     "name": "stdin",
     "output_type": "stream",
     "text": [
      "Podaj pierwszą liczbę:  3\n",
      "Podaj drugą liczbę:  5\n",
      "Podaj trzecią liczbę:  2\n",
      "Podaj pierwszy tekst:  aaa\n",
      "Podaj drugi tekst:  bbb\n"
     ]
    },
    {
     "name": "stdout",
     "output_type": "stream",
     "text": [
      "Podane liczby: liczba1: 3, liczba2: 5, liczba3: 2\n",
      "Podane teksty: tekst1: aaa, tekst2: bbb\n",
      "============================================================\n",
      "suma1 = liczba1 + liczba2:  8\n",
      "============================================================\n",
      "Kolejność działań w Pythonie ma znaczenie\n",
      "suma2a = liczba1 + liczba2 * liczba3 (3 + 5 * 2):  13\n",
      "suma2b = liczba3 + liczba2 * liczba1 (2 + 5 * 3):  17\n",
      "============================================================\n",
      "Można łączyć ciągi znaków np. tekst1 + tekst2 (aaa + bbb):  aaabbb\n",
      "============================================================\n",
      "Reszta z dzielenia: liczba1 % liczba2 ( 3  %  5 ):  3\n",
      "============================================================\n",
      "Potęgowanie liczb:\n",
      "liczba1 ** liczba2 ( 3  **  5 ):  243\n",
      "liczba2 ** liczba1 ( 5  **  3 ):  125\n",
      "============================================================\n",
      "Iloczyny liczb i tekstów:\n",
      "liczba1 * liczba2 ( 3  *  5 ):  15\n",
      "liczba2 * liczba1 ( 5  *  3 ):  15\n",
      "liczba1 * tekst1 ( 3  *  aaa ):  aaaaaaaaa\n"
     ]
    }
   ],
   "source": [
    "print('Podstawowe operatory w Pythonie')\n",
    "print('Podaj liczby i teksty:')\n",
    "liczba1 = int(input('Podaj pierwszą liczbę: '))\n",
    "liczba2 = int(input('Podaj drugą liczbę: '))\n",
    "liczba3 = int(input('Podaj trzecią liczbę: '))\n",
    "tekst1 = input('Podaj pierwszy tekst: ')\n",
    "tekst2 = input('Podaj drugi tekst: ')\n",
    "print('Podane liczby: liczba1: %s, liczba2: %s, liczba3: %s' %(liczba1,liczba2,liczba3))\n",
    "print('Podane teksty: tekst1: %s, tekst2: %s' %(tekst1,tekst2))\n",
    "\n",
    "print('============================================================')\n",
    "\n",
    "suma1 = liczba1 + liczba2\n",
    "print('suma1 = liczba1 + liczba2: ',suma1)\n",
    "\n",
    "print('============================================================')\n",
    "\n",
    "suma2a = liczba1 + liczba2 * liczba3\n",
    "suma2b = liczba3 + liczba2 * liczba1\n",
    "print('Kolejność działań w Pythonie ma znaczenie')\n",
    "print('suma2a = liczba1 + liczba2 * liczba3 (%s + %s * %s): ' %(liczba1,liczba2,liczba3),suma2a)\n",
    "print('suma2b = liczba3 + liczba2 * liczba1 (%s + %s * %s): ' %(liczba3,liczba2,liczba1),suma2b)\n",
    "\n",
    "print('============================================================')\n",
    "\n",
    "suma3 = tekst1 + tekst2\n",
    "print('Można łączyć ciągi znaków np. tekst1 + tekst2 (%s + %s): ' %(tekst1,tekst2),suma3)\n",
    "\n",
    "print('============================================================')\n",
    "\n",
    "reszta1 = liczba1 % liczba2\n",
    "print('Reszta z dzielenia: liczba1 % liczba2 (',liczba1,' % ',liczba2,'): ',reszta1)\n",
    "\n",
    "print('============================================================')\n",
    "\n",
    "potega1 = liczba1 ** liczba2\n",
    "potega2 = liczba2 ** liczba1\n",
    "print('Potęgowanie liczb:')\n",
    "print('liczba1 ** liczba2 (',liczba1,' ** ',liczba2,'): ',potega1)\n",
    "print('liczba2 ** liczba1 (',liczba2,' ** ',liczba1,'): ',potega2)\n",
    "\n",
    "print('============================================================')\n",
    "\n",
    "iloczyn1 = liczba1 * liczba2\n",
    "iloczyn2 = liczba2 * liczba1\n",
    "iloczyn3 = liczba1 * tekst1\n",
    "print('Iloczyny liczb i tekstów:')\n",
    "print('liczba1 * liczba2 (',liczba1,' * ',liczba2,'): ',iloczyn1)\n",
    "print('liczba2 * liczba1 (',liczba2,' * ',liczba1,'): ',iloczyn2)\n",
    "print('liczba1 * tekst1 (',liczba1,' * ',tekst1,'): ',iloczyn3)"
   ]
  },
  {
   "cell_type": "code",
   "execution_count": null,
   "metadata": {},
   "outputs": [],
   "source": []
  }
 ],
 "metadata": {
  "kernelspec": {
   "display_name": "Python 3",
   "language": "python",
   "name": "python3"
  },
  "language_info": {
   "codemirror_mode": {
    "name": "ipython",
    "version": 3
   },
   "file_extension": ".py",
   "mimetype": "text/x-python",
   "name": "python",
   "nbconvert_exporter": "python",
   "pygments_lexer": "ipython3",
   "version": "3.7.3"
  }
 },
 "nbformat": 4,
 "nbformat_minor": 2
}
